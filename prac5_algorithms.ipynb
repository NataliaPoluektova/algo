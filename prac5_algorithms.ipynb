{
 "cells": [
  {
   "cell_type": "markdown",
   "id": "37d425eb",
   "metadata": {},
   "source": [
    "# Практична робота №5\n",
    "\n",
    "# Введення в структури даних\n",
    "\n"
   ]
  },
  {
   "cell_type": "markdown",
   "id": "8e1aff42",
   "metadata": {},
   "source": [
    "## Завдання 1\n",
    "Реалізуйте алгоритм, який знаходить та виводить всі числа одновимірного масиву цілих чисел, які кратні 3. Відкоментуйте найважливіши блоки алгоритму\n",
    "\n",
    "\n"
   ]
  },
  {
   "cell_type": "code",
   "execution_count": 2,
   "id": "599a2c7f",
   "metadata": {},
   "outputs": [],
   "source": [
    "#### Ваш алгоритм тут:\n",
    "\n"
   ]
  },
  {
   "cell_type": "markdown",
   "id": "0e526f6d",
   "metadata": {},
   "source": [
    "## Завдання 2\n",
    "Реалізуйте алгоритм, який знаходить суму елементів кожного зі стовбців двовимірного  масиву цілих чисел. Відкоментуйте найважливіши блоки алгоритму\n"
   ]
  },
  {
   "cell_type": "code",
   "execution_count": 1,
   "id": "d59fa059",
   "metadata": {},
   "outputs": [],
   "source": [
    "#### Ваш алгоритм тут:\n",
    "..."
   ]
  },
  {
   "cell_type": "markdown",
   "id": "582a690a",
   "metadata": {},
   "source": [
    "## Завдання №3\n",
    "\n",
    "Реалізуйте алгоритм, який виводить реверсний масив за допомогою структури Стек\n",
    "Вхідний масив: 2 3 4 5 6   Вихідний массив:  6 5 4 3 2\n",
    "Відкоментуйте найважливіши блоки алгоритму\n"
   ]
  },
  {
   "cell_type": "code",
   "execution_count": null,
   "id": "d57e4219",
   "metadata": {},
   "outputs": [],
   "source": [
    "#### Ваш алгоритм тут:\n",
    "..."
   ]
  },
  {
   "cell_type": "markdown",
   "id": "1d23d364",
   "metadata": {},
   "source": [
    "## Завдання 4\n",
    "Нижче представлені функції для пошуку в ширину та глибину на графі. Спробуйте виконати пошук на наведеному графі:\n",
    "\n",
    "\n",
    "\n"
   ]
  },
  {
   "cell_type": "code",
   "execution_count": 3,
   "id": "dfff7a0f",
   "metadata": {},
   "outputs": [
    {
     "name": "stdout",
     "output_type": "stream",
     "text": [
      "DFS (через стек) шлях від A до F: ['A', 'C', 'F']\n",
      "BFS (через чергу) шлях від A до F: ['A', 'C', 'F']\n"
     ]
    }
   ],
   "source": [
    "graph = {\n",
    "    \"A\": [\"B\", \"C\"],\n",
    "    \"B\": [\"D\", \"E\"],\n",
    "    \"C\": [\"F\"],\n",
    "    \"D\": [],\n",
    "    \"E\": [\"F\"],\n",
    "    \"F\": []\n",
    "}\n",
    "\n",
    "def dfs_stack(graph, start, goal):\n",
    "    stack = [(start, [start])]  # стек: вершина + шлях до неї\n",
    "    visited = set()\n",
    "\n",
    "    while stack:\n",
    "        node, path = stack.pop()  # беремо останню вершину\n",
    "        if node == goal:\n",
    "            return path\n",
    "        if node not in visited:\n",
    "            visited.add(node)\n",
    "            for neighbor in graph[node]:\n",
    "                stack.append((neighbor, path + [neighbor]))\n",
    "    return None\n",
    "\n",
    "path_dfs = dfs_stack(graph, \"A\", \"F\")\n",
    "print(\"DFS (через стек) шлях від A до F:\", path_dfs)\n",
    "\n",
    "def bfs_queue(graph, start, goal):\n",
    "    queue = [(start, [start])]  # черга: вершина + шлях до неї\n",
    "    visited = set()\n",
    "\n",
    "    while queue:\n",
    "        node, path = queue.pop(0)  # беремо першу вершину\n",
    "        if node == goal:\n",
    "            return path\n",
    "        if node not in visited:\n",
    "            visited.add(node)\n",
    "            for neighbor in graph[node]:\n",
    "                queue.append((neighbor, path + [neighbor]))\n",
    "    return None\n",
    "\n",
    "path_bfs = bfs_queue(graph, \"A\", \"F\")\n",
    "print(\"BFS (через чергу) шлях від A до F:\", path_bfs)"
   ]
  },
  {
   "cell_type": "markdown",
   "id": "395c8d0d",
   "metadata": {},
   "source": [
    "**Самостійне завдання** Виконайте такий пошук для свого варіанту графу, який представлений матрицею суміжності:\n",
    "    Варіант 1\n",
    "0 1 0 0 1\n",
    "1 0 1 0 0\n",
    "0 1 0 1 0\n",
    "0 0 1 0 1\n",
    "1 0 0 1 0\n",
    "\n",
    "Варіант 2\n",
    "0 1 1 0 0\n",
    "1 0 0 1 0\n",
    "1 0 0 0 1\n",
    "0 1 0 0 1\n",
    "0 0 1 1 0\n",
    "\n",
    "Варіант 3\n",
    "0 1 0 1 0\n",
    "1 0 1 0 0\n",
    "0 1 0 1 1\n",
    "1 0 1 0 0\n",
    "0 0 1 0 0\n",
    "\n",
    "Варіант 4\n",
    "0 1 1 0 1\n",
    "1 0 0 1 0\n",
    "1 0 0 1 1\n",
    "0 1 1 0 0\n",
    "1 0 1 0 0\n",
    "\n",
    "Варіант 5\n",
    "0 0 1 1 0\n",
    "0 0 1 0 1\n",
    "1 1 0 0 0\n",
    "1 0 0 0 1\n",
    "0 1 0 1 0\n",
    "\n",
    "Варіант 6\n",
    "0 1 0 0 1\n",
    "1 0 1 0 0\n",
    "0 1 0 1 0\n",
    "0 0 1 0 1\n",
    "1 0 0 1 0\n",
    "\n",
    "Варіант 7\n",
    "0 0 1 1 1\n",
    "0 0 1 0 0\n",
    "1 1 0 0 1\n",
    "1 0 0 0 1\n",
    "1 0 1 1 0\n",
    "\n",
    "Варіант 8\n",
    "0 1 0 1 0\n",
    "1 0 1 0 1\n",
    "0 1 0 1 0\n",
    "1 0 1 0 1\n",
    "0 1 0 1 0\n",
    "\n",
    "Варіант 9\n",
    "0 1 1 0 0\n",
    "1 0 0 1 0\n",
    "1 0 0 0 1\n",
    "0 1 0 0 1\n",
    "0 0 1 1 0\n",
    "\n",
    "Варіант 10\n",
    "0 1 0 1 1\n",
    "1 0 1 0 0\n",
    "0 1 0 1 0\n",
    "1 0 1 0 1\n",
    "1 0 0 1 0"
   ]
  },
  {
   "cell_type": "code",
   "execution_count": null,
   "id": "494f6bce",
   "metadata": {},
   "outputs": [],
   "source": [
    "#Ваш код тут:\n",
    "..."
   ]
  },
  {
   "cell_type": "markdown",
   "id": "ebcbbf84",
   "metadata": {},
   "source": [
    "## Контрольні запитання\n",
    "\n",
    "1.У чому відмінність між статичними, напівстатичними та динамічними структурами даних?\n",
    "\n",
    "2.Наведіть приклади, коли доцільно використовувати стек або чергу.\n",
    "\n",
    "3.Поясніть, що таке хеш-таблиця і як працює хеш-функція.\n",
    "\n",
    "4.Для яких задач використовують графи?"
   ]
  }
 ],
 "metadata": {
  "celltoolbar": "Raw Cell Format",
  "kernelspec": {
   "display_name": "Python 3 (ipykernel)",
   "language": "python",
   "name": "python3"
  },
  "language_info": {
   "codemirror_mode": {
    "name": "ipython",
    "version": 3
   },
   "file_extension": ".py",
   "mimetype": "text/x-python",
   "name": "python",
   "nbconvert_exporter": "python",
   "pygments_lexer": "ipython3",
   "version": "3.11.5"
  }
 },
 "nbformat": 4,
 "nbformat_minor": 5
}
