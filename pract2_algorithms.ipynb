{
 "cells": [
  {
   "cell_type": "markdown",
   "id": "37d425eb",
   "metadata": {},
   "source": [
    "# Практична робота №2\n",
    "\n",
    "# Чисельні алгоритми"
   ]
  },
  {
   "cell_type": "markdown",
   "id": "8e1aff42",
   "metadata": {},
   "source": [
    "## Завдання 1\n",
    "**Алгоритм пошуку найбільшого спільного дільника двох чисел**\n",
    "\n",
    "\n",
    "1.\tБеремо два числа, наприклад, a і b.\n",
    "2.\tРозкладаємо кожне число на прості множники (наприклад, 12 = 2 × 2 × 3, 18 = 2 × 3 × 3).\n",
    "3.\tЗнаходимо множники, які є спільними для обох чисел (у нашому прикладі: 2 і 3).\n",
    "4.\tМножимо ці спільні множники між собою: 2 × 3 = 6.\n",
    "5.\tРезультат — це найбільший спільний дільник (НСД).\n"
   ]
  },
  {
   "cell_type": "markdown",
   "id": "5f7dc9ef",
   "metadata": {},
   "source": [
    "**Завдання для самостійної роботи:**\n",
    "\n",
    "Реалізуйте алгоритм для простого пошуку найбільшого спільного дільника. Для того, щоб розкласти число на прості множники можна використати наступну функцію:\n",
    "\n",
    "def prime_factors(n):\n",
    "    factors = []\n",
    "    d = 2\n",
    "    while n > 1:\n",
    "        while n % d == 0:\n",
    "            factors.append(d)\n",
    "            n //= d\n",
    "        d += 1\n",
    "    return factors"
   ]
  },
  {
   "cell_type": "code",
   "execution_count": null,
   "id": "599a2c7f",
   "metadata": {},
   "outputs": [],
   "source": [
    "#### Ваш алгоритм тут:\n",
    "..."
   ]
  },
  {
   "cell_type": "markdown",
   "id": "0e526f6d",
   "metadata": {},
   "source": [
    "## Завдання 2\n",
    "Порівняйте швидкість виконання алгоритмів з простого пошуку найбільшого спільного дільника та алгоритму Евкліда. Визначте О-велике для цих алгоритмів\n",
    "\n",
    "\n"
   ]
  },
  {
   "cell_type": "code",
   "execution_count": 4,
   "id": "d59fa059",
   "metadata": {},
   "outputs": [
    {
     "name": "stdout",
     "output_type": "stream",
     "text": [
      "НСД чисел 48000000 і 18000000 дорівнює 6000000\n",
      "Час виконання: 0.0007245540618896484 секунд\n"
     ]
    }
   ],
   "source": [
    "import time\n",
    "\n",
    "def euclid_gcd(a, b):\n",
    "    while b != 0:\n",
    "        a, b = b, a % b\n",
    "    return a\n",
    "\n",
    "# Приклад використання\n",
    "x = 48\n",
    "y = 18\n",
    "\n",
    "# Фіксуємо початковий час\n",
    "start_time = time.time()\n",
    "\n",
    "result = euclid_gcd(x, y)\n",
    "\n",
    "# Фіксуємо кінцевий час\n",
    "end_time = time.time()\n",
    "\n",
    "print(f\"НСД чисел {x} і {y} дорівнює {result}\")\n",
    "print(f\"Час виконання: {end_time - start_time} секунд\")"
   ]
  },
  {
   "cell_type": "markdown",
   "id": "582a690a",
   "metadata": {},
   "source": [
    "**Завдання для самостійної роботи:**\n",
    "\n",
    "Проведіть експерименти з вимірювання часу виконання обох алгоритмів для великих значень та зробіть висновки."
   ]
  },
  {
   "cell_type": "markdown",
   "id": "65e8cccc",
   "metadata": {},
   "source": [
    "#### Результати експериментів та ваші висновки:\n",
    "..."
   ]
  },
  {
   "cell_type": "markdown",
   "id": "cea7f145",
   "metadata": {},
   "source": [
    "## Завдання 3\n",
    "Нижче наведені алгоритм простого пошуку найбільшого простого числа до N та решето Ератосфена, яке выдбирає всі прості числа до n. Напишіть одну програму, яка дозволяє порівнювати їх ефективність для пошуку найбыльшого простого числа для великих n."
   ]
  },
  {
   "cell_type": "code",
   "execution_count": 5,
   "id": "f280b75d",
   "metadata": {},
   "outputs": [
    {
     "name": "stdout",
     "output_type": "stream",
     "text": [
      "Найбільше просте число до 50 — 47\n"
     ]
    }
   ],
   "source": [
    "#Простий пошук найьыльшого простого числа до n\n",
    "def is_prime(n):\n",
    "    if n < 2:\n",
    "        return False\n",
    "    for i in range(2, int(n**0.5) + 1):\n",
    "        if n % i == 0:\n",
    "            return False\n",
    "    return True\n",
    "\n",
    "def largest_prime(N):\n",
    "    for num in range(N, 1, -1):  # перебираємо числа від N до 2\n",
    "        if is_prime(num):\n",
    "            return num\n",
    "    return None  # якщо простого числа немає\n",
    "\n",
    "# Приклад використання\n",
    "N = 50\n",
    "print(f\"Найбільше просте число до {N} — {largest_prime(N)}\")"
   ]
  },
  {
   "cell_type": "code",
   "execution_count": 6,
   "id": "a2e2238b",
   "metadata": {},
   "outputs": [
    {
     "name": "stdout",
     "output_type": "stream",
     "text": [
      "n= 50\n",
      "2\n",
      "3\n",
      "5\n",
      "7\n",
      "11\n",
      "13\n",
      "17\n",
      "19\n",
      "23\n",
      "29\n",
      "31\n",
      "37\n",
      "41\n",
      "43\n",
      "47\n"
     ]
    }
   ],
   "source": [
    "#Решето Ератосфена\n",
    "# Введення числа n\n",
    "n = int(input(\"n= \"))\n",
    "\n",
    "# Створюємо список від 0 до n\n",
    "a = list(range(n + 1))\n",
    "\n",
    "# Викреслюємо не прості числа\n",
    "for p in range(2, n + 1):\n",
    "    if a[p] != 0:\n",
    "        print(a[p])\n",
    "        for j in range(p * p, n + 1, p):\n",
    "            a[j] = 0\n"
   ]
  },
  {
   "cell_type": "code",
   "execution_count": null,
   "id": "fd4211c3",
   "metadata": {},
   "outputs": [],
   "source": [
    "# Ваш код тут\n",
    "\n",
    "...\n"
   ]
  },
  {
   "cell_type": "markdown",
   "id": "6a87eee3",
   "metadata": {},
   "source": [
    "#### Результати експериментів та ваші висновки:\n",
    "..."
   ]
  },
  {
   "attachments": {},
   "cell_type": "markdown",
   "id": "6f902ab9",
   "metadata": {
    "raw_mimetype": "text/markdown"
   },
   "source": [
    "## Завдання 4\n",
    " Нижче наведена реалізація алгоритму визначення інтегралу функції y=(1+sin⁡(x))/(1+cos⁡(x)). Вам потрібно реалізувати таке обчислення для свого варіанту функції:\n",
    "\n",
    "![](prac2.png)\n",
    "\n",
    " "
   ]
  },
  {
   "cell_type": "code",
   "execution_count": 7,
   "id": "98343570",
   "metadata": {},
   "outputs": [
    {
     "name": "stdout",
     "output_type": "stream",
     "text": [
      "Введіть початок інтервалу: 0\n",
      "Введіть кінець інтервалу: 10\n",
      "Введіть кількість інтервалів: 5\n",
      "Інтеграл функції дорівнює: 14.33607286499809\n"
     ]
    }
   ],
   "source": [
    "import math\n",
    "\n",
    "# Функція, інтеграл якої потрібно розрахувати\n",
    "def func(x):\n",
    "    return (1 + math.sin(x)) / (1 + math.cos(x))\n",
    "\n",
    "# Введення даних\n",
    "a = float(input(\"Введіть початок інтервалу: \"))\n",
    "b = float(input(\"Введіть кінець інтервалу: \"))\n",
    "n = int(input(\"Введіть кількість інтервалів: \"))\n",
    "\n",
    "# Розрахунок кроку\n",
    "d = (b - a) / n\n",
    "\n",
    "# Початкове значення аргументу і площі\n",
    "x = a\n",
    "s1 = 0\n",
    "\n",
    "# Обчислення інтегралу методом прямокутників\n",
    "for i in range(1, n + 1):\n",
    "    s = d * func(x)  # площа поточного прямокутника\n",
    "    s1 += s          # додаємо до загальної суми\n",
    "    x += d           # аргумент для наступного прямокутника\n",
    "\n",
    "# Вивід результату\n",
    "print(\"Інтеграл функції дорівнює:\", s1)\n"
   ]
  },
  {
   "cell_type": "code",
   "execution_count": null,
   "id": "dfff7a0f",
   "metadata": {},
   "outputs": [],
   "source": [
    "Ваш код тут:\n",
    "    ..."
   ]
  },
  {
   "cell_type": "markdown",
   "id": "ebcbbf84",
   "metadata": {},
   "source": [
    "## Контрольні запитання\n",
    "1. Що таке чисельний алгоритм і для чого він використовується?\n",
    "...\n",
    "2. Як можна знайти найбільший спільний дільник (НСД) двох чисел?\n",
    "...\n",
    "3. Який алгоритм можна використовувати для ефективного пошуку великих простих чисел?\n",
    "...\n",
    "4. Який алгоритм ви навчилися використовувати для чисельного інтегрування?\n",
    "..."
   ]
  }
 ],
 "metadata": {
  "celltoolbar": "Raw Cell Format",
  "kernelspec": {
   "display_name": "Python 3 (ipykernel)",
   "language": "python",
   "name": "python3"
  },
  "language_info": {
   "codemirror_mode": {
    "name": "ipython",
    "version": 3
   },
   "file_extension": ".py",
   "mimetype": "text/x-python",
   "name": "python",
   "nbconvert_exporter": "python",
   "pygments_lexer": "ipython3",
   "version": "3.11.5"
  }
 },
 "nbformat": 4,
 "nbformat_minor": 5
}
