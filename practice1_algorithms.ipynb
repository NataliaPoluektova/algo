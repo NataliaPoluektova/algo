{
  "cells": [
    {
      "cell_type": "markdown",
      "metadata": {},
      "source": [
        "# 📘 Практична робота №1\n",
        "**Тема:** Знайомство з теорією алгоритмів  \n",
        "**Мета:** засвоїти базові поняття алгоритмів, навчитися оцінювати алгоритми та ознайомитися з нотацією «O-велике».  \n"
      ]
    },
    {
      "cell_type": "markdown",
      "metadata": {},
      "source": [
        "## 1. Поняття алгоритму\n",
        "**Алгоритм** – це послідовність кроків для розв’язання задачі.\n",
        "\n",
        "📌 *Приклад (у побуті):* алгоритм приготування кави.\n",
        "\n",
        "✍️ **Завдання студенту:** Опишіть власний побутовий алгоритм у вигляді списку кроків."
      ]
    },
    {
      "cell_type": "code",
      "execution_count": null,
      "metadata": {},
      "outputs": [],
      "source": [
        "# Ваша відповідь тут (можна у вигляді списку або тексту)"
      ]
    },
    {
      "cell_type": "markdown",
      "metadata": {},
      "source": [
        "## 2. Оцінювання алгоритмів\n",
        "Розглянемо задачу: обчислення суми чисел від 1 до N.\n",
        "\n",
        "### 🔹 Python приклад"
      ]
    },
    {
      "cell_type": "code",
      "execution_count": null,
      "metadata": {},
      "outputs": [],
      "source": [
        "def sum_loop(n):\n",
        "    s = 0\n",
        "    for i in range(1, n+1):\n",
        "        s += i\n",
        "    return s\n",
        "\n",
        "def sum_formula(n):\n",
        "    return n * (n + 1) // 2\n",
        "\n",
        "print(\"Цикл:\", sum_loop(10))\n",
        "print(\"Формула:\", sum_formula(10))"
      ]
    },
    {
      "cell_type": "markdown",
      "metadata": {},
      "source": [
        "### 🔹 C++ приклад"
      ]
    },
    {
      "cell_type": "code",
      "execution_count": null,
      "metadata": {},
      "outputs": [],
      "source": [
        "%%writefile sum.cpp\n",
        "#include <iostream>\n",
        "using namespace std;\n",
        "\n",
        "int sum_loop(int n) {\n",
        "    int s = 0;\n",
        "    for (int i = 1; i <= n; i++) s += i;\n",
        "    return s;\n",
        "}\n",
        "\n",
        "int sum_formula(int n) {\n",
        "    return n * (n + 1) / 2;\n",
        "}\n",
        "\n",
        "int main() {\n",
        "    cout << \"Цикл: \" << sum_loop(10) << endl;\n",
        "    cout << \"Формула: \" << sum_formula(10) << endl;\n",
        "}\n"
      ]
    },
    {
      "cell_type": "code",
      "execution_count": null,
      "metadata": {},
      "outputs": [],
      "source": [
        "!g++ sum.cpp -o sum\n",
        "!./sum"
      ]
    },
    {
      "cell_type": "markdown",
      "metadata": {},
      "source": [
        "✍️ **Завдання студенту:**\n",
        "- Запустіть код для різних N (100, 1000, 1 000 000).\n",
        "- Порівняйте швидкодію обох варіантів.\n",
        "- Напишіть свої висновки нижче."
      ]
    },
    {
      "cell_type": "code",
      "execution_count": null,
      "metadata": {},
      "outputs": [],
      "source": [
        "# Висновки студента:"
      ]
    },
    {
      "cell_type": "markdown",
      "metadata": {},
      "source": [
        "## 3. Алгоритм Евкліда (НСД)\n",
        "Розглянемо приклад алгоритму знаходження найбільшого спільного дільника.\n",
        "\n",
        "### 🔹 Python приклад"
      ]
    },
    {
      "cell_type": "code",
      "execution_count": null,
      "metadata": {},
      "outputs": [],
      "source": [
        "def gcd(a, b):\n",
        "    steps = 0\n",
        "    while b:\n",
        "        a, b = b, a % b\n",
        "        steps += 1\n",
        "    return a, steps\n",
        "\n",
        "print(gcd(270, 192))  # (НСД, кроки)"
      ]
    },
    {
      "cell_type": "markdown",
      "metadata": {},
      "source": [
        "### 🔹 C++ приклад"
      ]
    },
    {
      "cell_type": "code",
      "execution_count": null,
      "metadata": {},
      "outputs": [],
      "source": [
        "%%writefile gcd.cpp\n",
        "#include <iostream>\n",
        "using namespace std;\n",
        "\n",
        "pair<int,int> gcd(int a, int b) {\n",
        "    int steps = 0;\n",
        "    while (b != 0) {\n",
        "        int t = a % b;\n",
        "        a = b;\n",
        "        b = t;\n",
        "        steps++;\n",
        "    }\n",
        "    return {a, steps};\n",
        "}\n",
        "\n",
        "int main() {\n",
        "    auto res = gcd(270, 192);\n",
        "    cout << \"НСД: \" << res.first << \", Кроків: \" << res.second << endl;\n",
        "}\n"
      ]
    },
    {
      "cell_type": "code",
      "execution_count": null,
      "metadata": {},
      "outputs": [],
      "source": [
        "!g++ gcd.cpp -o gcd\n",
        "!./gcd"
      ]
    },
    {
      "cell_type": "markdown",
      "metadata": {},
      "source": [
        "✍️ **Завдання студенту:**\n",
        "- Запустіть алгоритм для різних пар чисел.\n",
        "- Порахуйте кількість кроків.\n",
        "- Порівняйте ефективність із \"наївним\" способом (перевіряти всі дільники).\n",
        "- Напишіть висновки нижче."
      ]
    },
    {
      "cell_type": "code",
      "execution_count": null,
      "metadata": {},
      "outputs": [],
      "source": [
        "# Висновки студента:"
      ]
    },
    {
      "cell_type": "markdown",
      "metadata": {},
      "source": [
        "## 4. «O-велике» (Big-O notation)\n",
        "Big-O показує, як алгоритм масштабується із ростом N.\n",
        "\n",
        "✍️ **Завдання студенту:**\n",
        "- Наведіть приклади алгоритмів з різною складністю (O(1), O(n), O(log n), O(n^2)).\n",
        "- Напишіть власні приклади в коді."
      ]
    },
    {
      "cell_type": "code",
      "execution_count": null,
      "metadata": {},
      "outputs": [],
      "source": [
        "# Ваш код тут (Python або C++)"
      ]
    },
    {
      "cell_type": "markdown",
      "metadata": {},
      "source": [
        "## 5. Висновки\n",
        "Студент має відповісти:\n",
        "- Чому алгоритм важливо оцінювати?\n",
        "- Який алгоритм пошуку ефективніший: лінійний чи бінарний? Чому?\n",
        "- Де в реальному житті використовується Big-O?\n"
      ]
    },
    {
      "cell_type": "code",
      "execution_count": null,
      "metadata": {},
      "outputs": [],
      "source": [
        "# Відповіді студента:"
      ]
    }
  ],
  "metadata": {
    "kernelspec": {
      "display_name": "Python 3",
      "language": "python",
      "name": "python3"
    },
    "language_info": {
      "name": "python",
      "version": "3.x"
    }
  },
  "nbformat": 4,
  "nbformat_minor": 5
}