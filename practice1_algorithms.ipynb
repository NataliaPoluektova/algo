{
  "nbformat": 4,
  "nbformat_minor": 5,
  "metadata": {},
  "cells": [
    {
      "id": "9d778501",
      "cell_type": "markdown",
      "source": "# 📘 Практична робота №1 — Знайомство з теорією алгоритмів\n**Мета:** засвоїти базові поняття алгоритмів, навчитися оцінювати алгоритми та ознайомитися з нотацією «O-велике».\n\n🧭 **Як працювати в Colab з Python і C++**\n- **Python** запускається напряму у комірках `code`.\n- **C++**: використовуйте комірку з магією `%%writefile file.cpp`, потім **окрему** комірку для компіляції та запуску:  \n  `!g++ file.cpp -std=c++17 -O2 -o app && ./app`\n\nУ кожному розділі нижче є **окремі комірки** для Python, **окремі для C++**, і **комірки для відповідей та аналізу**.\n",
      "metadata": {}
    },
    {
      "id": "81f8944c",
      "cell_type": "markdown",
      "source": "## 1. Поняття алгоритму\n\n**Алгоритм** – це послідовність точних інструкцій, які визначають порядок дій для розв’язання задачі.\n\n### Приклад побутового алгоритму: *Приготування кави* (список кроків)\n1. Взяти чашку.  \n2. Налити воду в чайник.  \n3. Увімкнути чайник і закип’ятити воду.  \n4. Насипати каву в чашку.  \n5. Додати цукор або молоко (за бажанням).  \n6. Залити кип’ятком.  \n7. Перемішати.  \n8. Насолоджуватися 🙂\n\n### 📝 Самостійне побутове завдання\nОпишіть будь-який **побутовий алгоритм** у вигляді нумерованого списку (напр.: приготування бутерброда, запуск пральної машини, вихід з дому).\n",
      "metadata": {}
    },
    {
      "id": "16ebf416",
      "cell_type": "markdown",
      "source": "**Відповідь студента (побутовий алгоритм):**\n1. ...\n2. ...\n3. ...\n",
      "metadata": {}
    },
    {
      "id": "6d3e79b0",
      "cell_type": "markdown",
      "source": "## 2. Оцінювання алгоритмів: приклад суми 1..n\n\nРозглянемо два способи обчислення суми чисел від 1 до `n` і **порівняємо їхню швидкодію**:\n\n- **Варіант 1 — через цикл (O(n))**: робимо `n` додавань.  \n- **Варіант 2 — через формулу (O(1))**: фіксована кількість операцій, незалежно від `n`.\n\nНижче наведено робочі приклади на Python і C++ + шаблони для експериментів з вимірюванням часу.\n",
      "metadata": {}
    },
    {
      "id": "0da55473",
      "cell_type": "code",
      "metadata": {},
      "execution_count": null,
      "source": "# ✅ Python: приклад двох способів + вимірювання часу\nimport time\n\ndef sum_loop(n: int) -> int:\n    s = 0\n    for i in range(1, n+1):\n        s += i\n    return s\n\ndef sum_formula(n: int) -> int:\n    return n * (n + 1) // 2\n\n# Коректність\nn_test = 10\nprint(\"sum_loop(10)   =\", sum_loop(n_test))\nprint(\"sum_formula(10)=\", sum_formula(n_test))\n\n# Вимірювання для великого n\nn = 10_000_000  # змініть за потреби\nt0 = time.perf_counter()\n_ = sum_loop(n)\nt1 = time.perf_counter()\n_ = sum_formula(n)\nt2 = time.perf_counter()\n\nprint(f\"Час sum_loop   : {t1 - t0:.4f} с\")\nprint(f\"Час sum_formula: {t2 - t1:.6f} с\")",
      "outputs": []
    },
    {
      "id": "e8ffb35e",
      "cell_type": "markdown",
      "source": "**🧪 Експеримент студента (Python):**  \nЗмініть значення `n` (наприклад, `10^5`, `10^6`, `10^7`) і повторіть заміри. Напишіть короткі висновки нижче.\n",
      "metadata": {}
    },
    {
      "id": "76d1cbbb",
      "cell_type": "code",
      "metadata": {},
      "execution_count": null,
      "source": "# Ваша лабораторія (Python)\nimport time\n\ndef sum_loop(n: int) -> int:\n    s = 0\n    for i in range(1, n+1):\n        s += i\n    return s\n\ndef sum_formula(n: int) -> int:\n    return n * (n + 1) // 2\n\n# TODO: змініть n і повторіть експерименти\nn_values = [100_000, 1_000_000, 10_000_000]\n\nfor n in n_values:\n    t0 = time.perf_counter()\n    _ = sum_loop(n)\n    t1 = time.perf_counter()\n    _ = sum_formula(n)\n    t2 = time.perf_counter()\n    print(f\"n={n:>10}: loop={t1-t0:.4f} с | formula={t2-t1:.6f} с\")",
      "outputs": []
    },
    {
      "id": "d7dd293d",
      "cell_type": "markdown",
      "source": "### 💻 C++: приклад і вимірювання швидкодії\n1) Запустіть першу комірку нижче (створить `sum_compare.cpp`).  \n2) Потім зкомпілюйте і виконайте програму у другій комірці.\n",
      "metadata": {}
    },
    {
      "id": "b1eba6c2",
      "cell_type": "code",
      "metadata": {},
      "execution_count": null,
      "source": "%%writefile sum_compare.cpp\n#include <bits/stdc++.h>\nusing namespace std;\n\nlong long sum_loop(long long n){\n    long long s = 0;\n    for(long long i=1;i<=n;i++) s += i;\n    return s;\n}\nlong long sum_formula(long long n){\n    return n*(n+1)/2;\n}\n\nint main(){\n    ios::sync_with_stdio(false);\n    cin.tie(nullptr);\n    vector<long long> n_values = {100000, 1000000, 5000000}; // змініть за потреби\n    for(long long n : n_values){\n        auto t0 = chrono::high_resolution_clock::now();\n        volatile long long a = sum_loop(n);\n        auto t1 = chrono::high_resolution_clock::now();\n        volatile long long b = sum_formula(n);\n        auto t2 = chrono::high_resolution_clock::now();\n\n        double dt_loop = chrono::duration<double>(t1 - t0).count();\n        double dt_formula = chrono::duration<double>(t2 - t1).count();\n\n        cout << \"n=\" << n << \"  loop=\" << fixed << setprecision(6) << dt_loop\n             << \" s  |  formula=\" << dt_formula << \" s\\n\";\n        if(a!=b) cerr << \"Помилка: різні результати!\\n\";\n    }\n    return 0;\n}",
      "outputs": []
    },
    {
      "id": "8da6d28c",
      "cell_type": "code",
      "metadata": {},
      "execution_count": null,
      "source": "!g++ sum_compare.cpp -std=c++17 -O2 -o sum_compare && ./sum_compare",
      "outputs": []
    },
    {
      "id": "3917c66f",
      "cell_type": "markdown",
      "source": "**Відповідь студента (аналіз розділу 2):**  \n- У чому принципова різниця між двома підходами?  \n- Який масштаб зростання часу ви спостерігаєте при збільшенні `n`? Чому?  \n- Для яких задач доцільно використовувати формулу замість циклу?\n",
      "metadata": {}
    },
    {
      "id": "9371488c",
      "cell_type": "markdown",
      "source": "## 3. НСД: простий алгоритм → алгоритм Евкліда → порівняння\n\n### 📌 Спочатку завдання (простий алгоритм)\nНапишіть програму для знаходження **найбільшого спільного дільника (НСД)** двох чисел **простим способом**: перебирайте всі можливі дільники (або від `min(a,b)` до 1), поки не знайдете НСД.\n\nСтворіть рішення **окремо для Python і для C++** у комірках нижче.\n",
      "metadata": {}
    },
    {
      "id": "b3678d7e",
      "cell_type": "code",
      "metadata": {},
      "execution_count": null,
      "source": "# 🧩 Python: НСД простим алгоритмом (ваш код)\ndef gcd_naive(a: int, b: int) -> int:\n    # TODO: реалізуйте перебір дільників (наприклад, у зворотньому порядку)\n    g = 1\n    m = min(a, b)\n    for d in range(m, 0, -1):\n        if a % d == 0 and b % d == 0:\n            g = d\n            break\n    return g\n\n# Перевірка\nprint(\"gcd_naive(270, 192) =\", gcd_naive(270, 192))",
      "outputs": []
    },
    {
      "id": "bbaaba63",
      "cell_type": "code",
      "metadata": {},
      "execution_count": null,
      "source": "%%writefile gcd_naive.cpp\n#include <bits/stdc++.h>\nusing namespace std;\n\nint gcd_naive(int a, int b){\n    // TODO: реалізуйте перебір дільників (наприклад, від min(a,b) до 1)\n    int g = 1;\n    int m = min(a, b);\n    for(int d = m; d >= 1; --d){\n        if(a % d == 0 && b % d == 0){ g = d; break; }\n    }\n    return g;\n}\n\nint main(){\n    cout << \"gcd_naive(270,192) = \" << gcd_naive(270,192) << \"\\n\";\n    return 0;\n}",
      "outputs": []
    },
    {
      "id": "7b03b368",
      "cell_type": "code",
      "metadata": {},
      "execution_count": null,
      "source": "!g++ gcd_naive.cpp -std=c++17 -O2 -o gcd_naive && ./gcd_naive",
      "outputs": []
    },
    {
      "id": "b1c9c070",
      "cell_type": "markdown",
      "source": "### Тепер — алгоритм Евкліда (ефективний)\n\nНижче наведені реалізації Евкліда для Python і C++. Виконайте їх та **порівняйте швидкодію** з простим перебором на великих числах.\n",
      "metadata": {}
    },
    {
      "id": "39257d03",
      "cell_type": "code",
      "metadata": {},
      "execution_count": null,
      "source": "# Python: алгоритм Евкліда + просте порівняння часу\nimport time\n\ndef gcd_euclid(a: int, b: int) -> int:\n    while b:\n        a, b = b, a % b\n    return a\n\n# Демонстрація коректності\nprint(\"gcd_euclid(270, 192) =\", gcd_euclid(270, 192))\n\n# Порівняння часу на великих числах\npairs = [(12_345_678, 9_876_543), (10**12+39, 10**12+17)]\nfor a, b in pairs:\n    t0 = time.perf_counter(); g1 = gcd_naive(a, b); t1 = time.perf_counter()\n    t2 = time.perf_counter(); g2 = gcd_euclid(a, b); t3 = time.perf_counter()\n    print(f\"(a,b)=({a},{b})  naive={t1-t0:.4f}s  euclid={t3-t2:.6f}s  ok={g1==g2}\")",
      "outputs": []
    },
    {
      "id": "ccbf9add",
      "cell_type": "code",
      "metadata": {},
      "execution_count": null,
      "source": "%%writefile gcd_euclid.cpp\n#include <bits/stdc++.h>\nusing namespace std;\n\nint gcd_naive(int a, int b){\n    int g = 1;\n    int m = min(a, b);\n    for(int d = m; d >= 1; --d){\n        if(a % d == 0 && b % d == 0){ g = d; break; }\n    }\n    return g;\n}\n\nint gcd_euclid(long long a, long long b){\n    while(b != 0){\n        long long t = a % b;\n        a = b;\n        b = t;\n    }\n    return (int)a;\n}\n\nint main(){\n    vector<pair<long long,long long>> tests = {\n        {270,192},\n        {12345678LL, 9876543LL},\n        {1000000000039LL, 1000000000017LL}\n    };\n    for(auto [a,b] : tests){\n        auto t0 = chrono::high_resolution_clock::now();\n        int g1 = gcd_naive((int)a, (int)b); // наївний тільки для менших чисел!\n        auto t1 = chrono::high_resolution_clock::now();\n        int g2 = gcd_euclid(a, b);\n        auto t2 = chrono::high_resolution_clock::now();\n        double dt_naive  = chrono::duration<double>(t1 - t0).count();\n        double dt_euclid = chrono::duration<double>(t2 - t1).count();\n        cout << \"(a,b)=(\" << a << \",\" << b << \")  naive=\" << fixed << setprecision(6) << dt_naive\n             << \" s  |  euclid=\" << dt_euclid << \" s  |  ok=\" << (g1==g2) << \"\\n\";\n    }\n    return 0;\n}",
      "outputs": []
    },
    {
      "id": "3b18e431",
      "cell_type": "code",
      "metadata": {},
      "execution_count": null,
      "source": "!g++ gcd_euclid.cpp -std=c++17 -O2 -o gcd_euclid && ./gcd_euclid",
      "outputs": []
    },
    {
      "id": "3afa0ce3",
      "cell_type": "markdown",
      "source": "**Відповідь студента (аналіз НСД):**  \n- У чому ідея простого алгоритму та алгоритму Евкліда?  \n- Які часові витрати спостерігаються у ваших експериментах?  \n- Зробіть висновок про масштабованість обох підходів.\n",
      "metadata": {}
    },
    {
      "id": "d6244f0c",
      "cell_type": "markdown",
      "source": "## 4. «O-велике»: приклади та аналіз\n\nНижче — короткі приклади алгоритмів із різною асимптотикою.\n",
      "metadata": {}
    },
    {
      "id": "2fe79b3a",
      "cell_type": "code",
      "metadata": {},
      "execution_count": null,
      "source": "# Python приклади складностей\ndef O1_get_first(a):\n    return a[0]  # O(1)\n\ndef On_sum(a):\n    s = 0\n    for x in a:\n        s += x      # O(n)\n    return s\n\ndef On2_pairs(a):\n    cnt = 0\n    for i in range(len(a)):\n        for j in range(len(a)):\n            cnt += 1  # O(n^2)\n    return cnt\n\ndef Ologn_binary_search(a, x):\n    L, R = 0, len(a)-1\n    while L <= R:\n        m = (L+R)//2\n        if a[m] == x: return m     # O(log n)\n        if a[m] < x: L = m+1\n        else: R = m-1\n    return -1",
      "outputs": []
    },
    {
      "id": "8077b01b",
      "cell_type": "code",
      "metadata": {},
      "execution_count": null,
      "source": "%%writefile complexity_examples.cpp\n#include <bits/stdc++.h>\nusing namespace std;\n\nint O1_get_first(const vector<int>& a){ return a.front(); } // O(1)\n\nlong long On_sum(const vector<int>& a){                     // O(n)\n    long long s = 0; for(int x : a) s += x; return s;\n}\n\nlong long On2_pairs(const vector<int>& a){                  // O(n^2)\n    long long cnt = 0;\n    for(size_t i=0;i<a.size();++i)\n        for(size_t j=0;j<a.size();++j) ++cnt;\n    return cnt;\n}\n\nint Ologn_binary_search(const vector<int>& a, int x){       // O(log n)\n    int L=0, R=(int)a.size()-1;\n    while(L<=R){\n        int m=(L+R)/2;\n        if(a[m]==x) return m;\n        if(a[m]<x) L=m+1; else R=m-1;\n    }\n    return -1;\n}\n\nint main(){\n    vector<int> a(10000); iota(a.begin(), a.end(), 0);\n    cout << O1_get_first(a) << \"\\n\";\n    cout << On_sum(a) << \"\\n\";\n    cout << On2_pairs(vector<int>(100)) << \"\\n\"; // не ставте дуже великі значення\n    cout << Ologn_binary_search(a, 7777) << \"\\n\";\n    return 0;\n}",
      "outputs": []
    },
    {
      "id": "d2f70627",
      "cell_type": "code",
      "metadata": {},
      "execution_count": null,
      "source": "!g++ complexity_examples.cpp -std=c++17 -O2 -o complexity_examples && ./complexity_examples",
      "outputs": []
    },
    {
      "id": "be778a94",
      "cell_type": "markdown",
      "source": "### 🧠 Самостійний аналіз (визначити O-велике)\nДля кожного фрагмента коду визначте асимптотичну складність та **обґрунтуйте** відповідь.\n\n**Код A (Python):**\n```python\ndef A(a):\n    for i in range(len(a)):\n        print(a[i])\n```\n\n**Код B (Python):**\n```python\ndef B(a):\n    for i in range(len(a)):\n        for j in range(i+1, len(a)):\n            pass\n```\n\n**Код C (Python):**\n```python\ndef C(n):\n    while n > 1:\n        n //= 2\n```\n\n**Код D (Python):**\n```python\ndef D(n):\n    for i in range(n):\n        k = 1\n        while k < n:\n            k *= 2\n```\n",
      "metadata": {}
    },
    {
      "id": "32562943",
      "cell_type": "markdown",
      "source": "**Відповіді студента (O-велике):**\n- Код A: ...\n- Код B: ...\n- Код C: ...\n- Код D: ...\n",
      "metadata": {}
    }
  ]
}